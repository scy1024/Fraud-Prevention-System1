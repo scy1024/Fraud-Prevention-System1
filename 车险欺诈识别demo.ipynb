{
 "cells": [
  {
   "cell_type": "markdown",
   "metadata": {},
   "source": [
    "本demo使用网络车险案件数据集，演示机器学习模型应用于车险欺诈识别的效果\n",
    "\n",
    "需要配合本demo使用的文件：\n",
    "* insurance_claims.csv\n",
    "* 测试数据.xlsx\n",
    "* 测试数据标签.xlsx\n",
    "* 训练数据.xlsx\n",
    "* 训练数据标签.xlsx"
   ]
  },
  {
   "cell_type": "code",
   "execution_count": null,
   "metadata": {},
   "outputs": [],
   "source": [
    "import pandas as pd\n",
    "import numpy as np\n",
    "import matplotlib.pyplot as plt\n",
    "import seaborn as sns\n",
    "import plotly.express as px\n",
    "import warnings\n",
    "warnings.filterwarnings('ignore')\n",
    "plt.style.use('ggplot')\n",
    "\n",
    "df = pd.read_csv('insurance_claims.csv')\n",
    "df.replace('?', np.nan, inplace = True)\n",
    "import missingno as msno\n",
    "\n",
    "msno.bar(df)\n",
    "df['collision_type'] = df['collision_type'].fillna(df['collision_type'].mode()[0])\n",
    "df['property_damage'] = df['property_damage'].fillna(df['property_damage'].mode()[0])\n",
    "df['police_report_available'] = df['police_report_available'].fillna(df['police_report_available'].mode()[0])\n",
    "#df.isna().sum()\n",
    "plt.figure(figsize = (18, 12))\n",
    "corr = df.corr()\n",
    "sns.heatmap(data = corr, annot = True, fmt = '.2g', linewidth = 1)\n",
    "#plt.show()\n",
    "to_drop = ['policy_number','policy_bind_date','policy_state','insured_zip','incident_location','incident_date',\n",
    "           'incident_state','incident_city','insured_hobbies','auto_make','auto_model','auto_year', '_c39']\n",
    "df.drop(to_drop, inplace = True, axis = 1)\n",
    "plt.figure(figsize = (18, 12))\n",
    "corr = df.corr()\n",
    "mask = np.triu(np.ones_like(corr, dtype = bool))\n",
    "sns.heatmap(data = corr, mask = mask, annot = True, fmt = '.2g', linewidth = 1)\n",
    "#plt.show()\n",
    "df.drop(columns = ['age', 'total_claim_amount'], inplace = True, axis = 1)\n",
    "X = df.drop('fraud_reported', axis = 1)\n",
    "y = df['fraud_reported']\n",
    "cat_df = X.select_dtypes(include = ['object'])\n",
    "cat_df = pd.get_dummies(cat_df, drop_first = True)\n",
    "num_df = X.select_dtypes(include = ['int64'])\n",
    "X = pd.concat([num_df, cat_df], axis = 1)\n",
    "plt.figure(figsize = (25, 20))\n",
    "plotnumber = 1\n",
    "for col in X.columns:\n",
    "    if plotnumber <= 24:\n",
    "        ax = plt.subplot(5, 5, plotnumber)\n",
    "        sns.distplot(X[col])\n",
    "        plt.xlabel(col, fontsize = 15)\n",
    "        \n",
    "    plotnumber += 1   \n",
    "#plt.tight_layout()\n",
    "#plt.show()\n",
    "plt.figure(figsize = (20, 15))\n",
    "plotnumber = 1\n",
    "for col in X.columns:\n",
    "    if plotnumber <= 24:\n",
    "        ax = plt.subplot(5, 5, plotnumber)\n",
    "        sns.boxplot(X[col\n",
    "        ])\n",
    "        plt.xlabel(col, fontsize = 15)\n",
    "    \n",
    "    plotnumber += 1\n",
    "#plt.tight_layout()\n",
    "#plt.show()"
   ]
  },
  {
   "cell_type": "code",
   "execution_count": 5,
   "metadata": {},
   "outputs": [],
   "source": [
    "from sklearn.model_selection import train_test_split\n",
    "\n",
    "X_train, X_test, y_train, y_test = train_test_split(X, y, test_size = 0.25)\n",
    "num_df = X_train[['months_as_customer', 'policy_deductable', 'umbrella_limit',\n",
    "       'capital-gains', 'capital-loss', 'incident_hour_of_the_day',\n",
    "       'number_of_vehicles_involved', 'bodily_injuries', 'witnesses', 'injury_claim', 'property_claim',\n",
    "       'vehicle_claim']]\n",
    "from sklearn.preprocessing import StandardScaler\n",
    "scaler = StandardScaler()\n",
    "scaled_data = scaler.fit_transform(num_df)\n",
    "scaled_num_df = pd.DataFrame(data = scaled_data, columns = num_df.columns, index = X_train.index)\n",
    "X_train.drop(columns = scaled_num_df.columns, inplace = True)\n",
    "X_train = pd.concat([scaled_num_df, X_train], axis = 1)"
   ]
  },
  {
   "cell_type": "code",
   "execution_count": 10,
   "metadata": {},
   "outputs": [],
   "source": [
    "pd.DataFrame(X_train).to_excel('训练数据.xlsx')\n",
    "pd.DataFrame(y_train).to_excel('训练数据标签.xlsx')"
   ]
  },
  {
   "cell_type": "code",
   "execution_count": 12,
   "metadata": {},
   "outputs": [],
   "source": [
    "pd.DataFrame(X_test).to_excel('测试数据.xlsx')\n",
    "pd.DataFrame(y_test).to_excel('测试数据标签.xlsx')"
   ]
  },
  {
   "cell_type": "markdown",
   "metadata": {},
   "source": [
    "上面的代码将原始数据进行了预处理（包括数据清洗、数据编码等工作，将原始的数据转换成了适用与机器学习模型的数据），同时将原始数据划分为训练模型用的数据以及测试模型用的数据，均导出为了excel文件。"
   ]
  },
  {
   "cell_type": "markdown",
   "metadata": {},
   "source": [
    "## 决策树模型"
   ]
  },
  {
   "cell_type": "code",
   "execution_count": 14,
   "metadata": {},
   "outputs": [
    {
     "name": "stdout",
     "output_type": "stream",
     "text": [
      "Fitting 5 folds for each of 512 candidates, totalling 2560 fits\n"
     ]
    }
   ],
   "source": [
    "from sklearn.tree import DecisionTreeClassifier\n",
    "dtc = DecisionTreeClassifier()\n",
    "dtc.fit(X_train, y_train)\n",
    "y_pred = dtc.predict(X_test)\n",
    "from sklearn.metrics import accuracy_score, confusion_matrix, classification_report\n",
    "dtc_train_acc = accuracy_score(y_train, dtc.predict(X_train))\n",
    "dtc_test_acc = accuracy_score(y_test, y_pred)\n",
    "from sklearn.model_selection import GridSearchCV\n",
    "grid_params = {\n",
    "    'criterion' : ['gini', 'entropy'],\n",
    "    'max_depth' : [3, 5, 7, 10],\n",
    "    'min_samples_split' : range(2, 10, 1),\n",
    "    'min_samples_leaf' : range(2, 10, 1)\n",
    "}\n",
    "grid_search = GridSearchCV(dtc, grid_params, cv = 5, n_jobs = -1, verbose = 1)\n",
    "grid_search.fit(X_train, y_train)\n",
    "dtc = grid_search.best_estimator_\n",
    "y_pred = dtc.predict(X_test)\n",
    "from sklearn.metrics import accuracy_score, confusion_matrix, classification_report\n",
    "dtc_train_acc = accuracy_score(y_train, dtc.predict(X_train))\n",
    "dtc_test_acc = accuracy_score(y_test, y_pred)"
   ]
  },
  {
   "cell_type": "markdown",
   "metadata": {},
   "source": [
    "上述代码使用750个训练用案件数据训练了机器学习模型，并对250个测试用案件数据进行了预测，这250个模型的预测结果如下('N'为不存在欺诈，'Y'为存在欺诈)"
   ]
  },
  {
   "cell_type": "code",
   "execution_count": 15,
   "metadata": {},
   "outputs": [
    {
     "data": {
      "text/plain": [
       "array(['N', 'N', 'N', 'N', 'N', 'N', 'Y', 'Y', 'N', 'N', 'Y', 'Y', 'Y',\n",
       "       'N', 'N', 'N', 'N', 'N', 'N', 'N', 'N', 'N', 'Y', 'Y', 'N', 'N',\n",
       "       'N', 'N', 'Y', 'Y', 'Y', 'N', 'N', 'N', 'Y', 'Y', 'Y', 'N', 'N',\n",
       "       'Y', 'Y', 'Y', 'N', 'N', 'N', 'Y', 'N', 'N', 'N', 'Y', 'N', 'Y',\n",
       "       'Y', 'N', 'N', 'N', 'Y', 'Y', 'N', 'Y', 'N', 'N', 'N', 'N', 'Y',\n",
       "       'Y', 'Y', 'Y', 'N', 'Y', 'Y', 'Y', 'N', 'N', 'Y', 'N', 'N', 'N',\n",
       "       'N', 'N', 'Y', 'N', 'Y', 'Y', 'N', 'N', 'N', 'Y', 'N', 'N', 'N',\n",
       "       'Y', 'N', 'N', 'N', 'N', 'N', 'N', 'N', 'Y', 'N', 'Y', 'Y', 'N',\n",
       "       'N', 'Y', 'N', 'N', 'N', 'N', 'N', 'N', 'Y', 'N', 'N', 'N', 'N',\n",
       "       'N', 'Y', 'Y', 'Y', 'N', 'N', 'N', 'Y', 'N', 'N', 'N', 'Y', 'N',\n",
       "       'Y', 'N', 'N', 'N', 'Y', 'N', 'N', 'N', 'N', 'Y', 'N', 'N', 'N',\n",
       "       'N', 'Y', 'N', 'Y', 'Y', 'N', 'N', 'Y', 'N', 'N', 'Y', 'N', 'N',\n",
       "       'Y', 'N', 'N', 'N', 'N', 'Y', 'N', 'Y', 'Y', 'Y', 'N', 'Y', 'N',\n",
       "       'N', 'N', 'N', 'N', 'Y', 'N', 'N', 'Y', 'Y', 'N', 'Y', 'N', 'N',\n",
       "       'N', 'N', 'Y', 'Y', 'N', 'Y', 'N', 'Y', 'N', 'N', 'N', 'Y', 'N',\n",
       "       'N', 'N', 'N', 'N', 'N', 'N', 'N', 'Y', 'N', 'N', 'N', 'N', 'Y',\n",
       "       'N', 'N', 'Y', 'Y', 'N', 'N', 'N', 'N', 'N', 'N', 'Y', 'N', 'N',\n",
       "       'Y', 'Y', 'N', 'N', 'N', 'Y', 'Y', 'Y', 'N', 'Y', 'N', 'N', 'N',\n",
       "       'Y', 'Y', 'N', 'N', 'N', 'Y', 'N', 'N', 'N', 'Y', 'Y', 'Y', 'N',\n",
       "       'N', 'Y', 'N'], dtype=object)"
      ]
     },
     "execution_count": 15,
     "metadata": {},
     "output_type": "execute_result"
    }
   ],
   "source": [
    "y_pred"
   ]
  },
  {
   "cell_type": "markdown",
   "metadata": {},
   "source": [
    "与250个测试案件的实际结果对比，当前模型的准确率如下："
   ]
  },
  {
   "cell_type": "code",
   "execution_count": 16,
   "metadata": {},
   "outputs": [
    {
     "name": "stdout",
     "output_type": "stream",
     "text": [
      "Training accuracy of Decision Tree is : 0.7906666666666666\n",
      "Test accuracy of Decision Tree is : 0.768\n"
     ]
    }
   ],
   "source": [
    "print(f\"Training accuracy of Decision Tree is : {dtc_train_acc}\")\n",
    "print(f\"Test accuracy of Decision Tree is : {dtc_test_acc}\")"
   ]
  },
  {
   "cell_type": "code",
   "execution_count": null,
   "metadata": {},
   "outputs": [],
   "source": []
  }
 ],
 "metadata": {
  "interpreter": {
   "hash": "5179d32cf6ec497baf3f8a3ef987cc77c5d2dc691fdde20a56316522f61a7323"
  },
  "kernelspec": {
   "display_name": "Python 3.9.7 ('base')",
   "language": "python",
   "name": "python3"
  },
  "language_info": {
   "codemirror_mode": {
    "name": "ipython",
    "version": 3
   },
   "file_extension": ".py",
   "mimetype": "text/x-python",
   "name": "python",
   "nbconvert_exporter": "python",
   "pygments_lexer": "ipython3",
   "version": "3.9.7"
  },
  "orig_nbformat": 4
 },
 "nbformat": 4,
 "nbformat_minor": 2
}
